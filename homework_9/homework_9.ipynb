{
 "cells": [
  {
   "cell_type": "code",
   "execution_count": 1,
   "id": "a62ab52d-c7f3-408f-99f8-550b53ff2a16",
   "metadata": {
    "ExecuteTime": {
     "end_time": "2024-04-15T13:44:04.952159Z",
     "start_time": "2024-04-15T13:43:57.952664Z"
    }
   },
   "outputs": [
    {
     "name": "stderr",
     "output_type": "stream",
     "text": [
      "C:\\Users\\User\\anaconda3\\lib\\site-packages\\scipy\\__init__.py:146: UserWarning: A NumPy version >=1.16.5 and <1.23.0 is required for this version of SciPy (detected version 1.26.4\n",
      "  warnings.warn(f\"A NumPy version >={np_minversion} and <{np_maxversion}\"\n",
      "[nltk_data] Downloading package punkt to\n",
      "[nltk_data]     C:\\Users\\User\\AppData\\Roaming\\nltk_data...\n",
      "[nltk_data]   Package punkt is already up-to-date!\n"
     ]
    }
   ],
   "source": [
    "import pandas as pd\n",
    "import nltk\n",
    "nltk.download('punkt')\n",
    "import csv\n",
    "import os\n",
    "import wget\n",
    "from sklearn.utils import shuffle\n",
    "from sklearn.model_selection import train_test_split\n",
    "import matplotlib\n",
    "from sklearn.preprocessing import LabelEncoder\n",
    "from sklearn.feature_extraction.text import TfidfVectorizer\n",
    "from sklearn.linear_model import LogisticRegression\n",
    "import numpy as np\n",
    "from sklearn.metrics import f1_score"
   ]
  },
  {
   "cell_type": "code",
   "execution_count": 2,
   "id": "ec0b04ee-33cd-4eaa-97c5-2e1f7a701080",
   "metadata": {
    "ExecuteTime": {
     "end_time": "2024-04-15T13:44:30.014432Z",
     "start_time": "2024-04-15T13:44:29.836317Z"
    }
   },
   "outputs": [],
   "source": [
    "news = pd.read_csv('./csv/news_lenta_ru.csv', engine='python', on_bad_lines='skip')"
   ]
  },
  {
   "cell_type": "code",
   "execution_count": 3,
   "id": "711ed40b-aed3-416c-8c6a-bea46e0ecf73",
   "metadata": {
    "ExecuteTime": {
     "end_time": "2024-04-15T13:44:32.315051Z",
     "start_time": "2024-04-15T13:44:32.285541Z"
    }
   },
   "outputs": [
    {
     "data": {
      "text/html": [
       "<div>\n",
       "<style scoped>\n",
       "    .dataframe tbody tr th:only-of-type {\n",
       "        vertical-align: middle;\n",
       "    }\n",
       "\n",
       "    .dataframe tbody tr th {\n",
       "        vertical-align: top;\n",
       "    }\n",
       "\n",
       "    .dataframe thead th {\n",
       "        text-align: right;\n",
       "    }\n",
       "</style>\n",
       "<table border=\"1\" class=\"dataframe\">\n",
       "  <thead>\n",
       "    <tr style=\"text-align: right;\">\n",
       "      <th></th>\n",
       "      <th>url</th>\n",
       "      <th>title</th>\n",
       "      <th>text</th>\n",
       "      <th>topic</th>\n",
       "      <th>tags</th>\n",
       "    </tr>\n",
       "  </thead>\n",
       "  <tbody>\n",
       "    <tr>\n",
       "      <th>0</th>\n",
       "      <td>https://lenta.ru/news/1914/09/16/hungarnn/</td>\n",
       "      <td>1914. Русские войска вступили в пределы Венгрии</td>\n",
       "      <td>Бои у Сопоцкина и Друскеник закончились отступ...</td>\n",
       "      <td>Библиотека</td>\n",
       "      <td>Первая мировая</td>\n",
       "    </tr>\n",
       "    <tr>\n",
       "      <th>1</th>\n",
       "      <td>https://lenta.ru/news/1914/09/16/lermontov/</td>\n",
       "      <td>1914. Празднование столетия М.Ю. Лермонтова от...</td>\n",
       "      <td>Министерство народного просвещения, в виду про...</td>\n",
       "      <td>Библиотека</td>\n",
       "      <td>Первая мировая</td>\n",
       "    </tr>\n",
       "    <tr>\n",
       "      <th>2</th>\n",
       "      <td>https://lenta.ru/news/1914/09/17/nesteroff/</td>\n",
       "      <td>1914. Das ist Nesteroff!</td>\n",
       "      <td>Штабс-капитан П. Н. Нестеров на днях, увидев в...</td>\n",
       "      <td>Библиотека</td>\n",
       "      <td>Первая мировая</td>\n",
       "    </tr>\n",
       "    <tr>\n",
       "      <th>3</th>\n",
       "      <td>https://lenta.ru/news/1914/09/17/bulldogn/</td>\n",
       "      <td>1914. Бульдог-гонец под Льежем</td>\n",
       "      <td>Фотограф-корреспондент Daily Mirror рассказыва...</td>\n",
       "      <td>Библиотека</td>\n",
       "      <td>Первая мировая</td>\n",
       "    </tr>\n",
       "    <tr>\n",
       "      <th>4</th>\n",
       "      <td>https://lenta.ru/news/1914/09/18/zver/</td>\n",
       "      <td>1914. Под Люблином пойман швабский зверь</td>\n",
       "      <td>Лица, приехавшие в Варшаву из Люблина, передаю...</td>\n",
       "      <td>Библиотека</td>\n",
       "      <td>Первая мировая</td>\n",
       "    </tr>\n",
       "    <tr>\n",
       "      <th>...</th>\n",
       "      <td>...</td>\n",
       "      <td>...</td>\n",
       "      <td>...</td>\n",
       "      <td>...</td>\n",
       "      <td>...</td>\n",
       "    </tr>\n",
       "    <tr>\n",
       "      <th>9995</th>\n",
       "      <td>https://lenta.ru/news/2000/07/10/kpp/</td>\n",
       "      <td>На границе Дагестана и Чечни будут стрелять в ...</td>\n",
       "      <td>Глава МВД Дагестана приказал нарядам милиции н...</td>\n",
       "      <td>Россия</td>\n",
       "      <td>Все</td>\n",
       "    </tr>\n",
       "    <tr>\n",
       "      <th>9996</th>\n",
       "      <td>https://lenta.ru/news/2000/07/10/gossovet/</td>\n",
       "      <td>Путин пересадит губернаторов в Госсовет</td>\n",
       "      <td>Представители Кремля ведут активный диалог с г...</td>\n",
       "      <td>Россия</td>\n",
       "      <td>Все</td>\n",
       "    </tr>\n",
       "    <tr>\n",
       "      <th>9997</th>\n",
       "      <td>https://lenta.ru/news/2000/07/10/clowns/</td>\n",
       "      <td>В Москву съедутся клоуны со всего мира</td>\n",
       "      <td>В Москве 20 июля открывается фестиваль \"Планет...</td>\n",
       "      <td>Россия</td>\n",
       "      <td>Все</td>\n",
       "    </tr>\n",
       "    <tr>\n",
       "      <th>9998</th>\n",
       "      <td>https://lenta.ru/news/2000/07/10/women/</td>\n",
       "      <td>Старшая Уильямс выигрывает чемпионский титул</td>\n",
       "      <td>Чисто американским получился финал Уимблдонск...</td>\n",
       "      <td>Спорт</td>\n",
       "      <td>Все</td>\n",
       "    </tr>\n",
       "    <tr>\n",
       "      <th>9999</th>\n",
       "      <td>https://lenta.ru/news/2000/07/10/zenit/</td>\n",
       "      <td>\"Зенит\" выходит в третий раунд Кубка Интертото</td>\n",
       "      <td>Первым российским клубом, стартовавшим в сезон...</td>\n",
       "      <td>Спорт</td>\n",
       "      <td>Все</td>\n",
       "    </tr>\n",
       "  </tbody>\n",
       "</table>\n",
       "<p>10000 rows × 5 columns</p>\n",
       "</div>"
      ],
      "text/plain": [
       "                                              url  \\\n",
       "0      https://lenta.ru/news/1914/09/16/hungarnn/   \n",
       "1     https://lenta.ru/news/1914/09/16/lermontov/   \n",
       "2     https://lenta.ru/news/1914/09/17/nesteroff/   \n",
       "3      https://lenta.ru/news/1914/09/17/bulldogn/   \n",
       "4          https://lenta.ru/news/1914/09/18/zver/   \n",
       "...                                           ...   \n",
       "9995        https://lenta.ru/news/2000/07/10/kpp/   \n",
       "9996   https://lenta.ru/news/2000/07/10/gossovet/   \n",
       "9997     https://lenta.ru/news/2000/07/10/clowns/   \n",
       "9998      https://lenta.ru/news/2000/07/10/women/   \n",
       "9999      https://lenta.ru/news/2000/07/10/zenit/   \n",
       "\n",
       "                                                  title  \\\n",
       "0     1914. Русские войска вступили в пределы Венгрии     \n",
       "1     1914. Празднование столетия М.Ю. Лермонтова от...   \n",
       "2                              1914. Das ist Nesteroff!   \n",
       "3                       1914. Бульдог-гонец под Льежем    \n",
       "4              1914. Под Люблином пойман швабский зверь   \n",
       "...                                                 ...   \n",
       "9995  На границе Дагестана и Чечни будут стрелять в ...   \n",
       "9996            Путин пересадит губернаторов в Госсовет   \n",
       "9997             В Москву съедутся клоуны со всего мира   \n",
       "9998       Старшая Уильямс выигрывает чемпионский титул   \n",
       "9999     \"Зенит\" выходит в третий раунд Кубка Интертото   \n",
       "\n",
       "                                                   text       topic  \\\n",
       "0     Бои у Сопоцкина и Друскеник закончились отступ...  Библиотека   \n",
       "1     Министерство народного просвещения, в виду про...  Библиотека   \n",
       "2     Штабс-капитан П. Н. Нестеров на днях, увидев в...  Библиотека   \n",
       "3     Фотограф-корреспондент Daily Mirror рассказыва...  Библиотека   \n",
       "4     Лица, приехавшие в Варшаву из Люблина, передаю...  Библиотека   \n",
       "...                                                 ...         ...   \n",
       "9995  Глава МВД Дагестана приказал нарядам милиции н...      Россия   \n",
       "9996  Представители Кремля ведут активный диалог с г...      Россия   \n",
       "9997  В Москве 20 июля открывается фестиваль \"Планет...      Россия   \n",
       "9998   Чисто американским получился финал Уимблдонск...       Спорт   \n",
       "9999  Первым российским клубом, стартовавшим в сезон...       Спорт   \n",
       "\n",
       "                tags  \n",
       "0     Первая мировая  \n",
       "1     Первая мировая  \n",
       "2     Первая мировая  \n",
       "3     Первая мировая  \n",
       "4     Первая мировая  \n",
       "...              ...  \n",
       "9995             Все  \n",
       "9996             Все  \n",
       "9997             Все  \n",
       "9998             Все  \n",
       "9999             Все  \n",
       "\n",
       "[10000 rows x 5 columns]"
      ]
     },
     "execution_count": 3,
     "metadata": {},
     "output_type": "execute_result"
    }
   ],
   "source": [
    "news"
   ]
  },
  {
   "cell_type": "code",
   "execution_count": 4,
   "id": "39e8481c-df5f-4e92-b74f-64037b1efc82",
   "metadata": {
    "ExecuteTime": {
     "end_time": "2024-04-15T13:44:40.522683Z",
     "start_time": "2024-04-15T13:44:40.511684Z"
    }
   },
   "outputs": [],
   "source": [
    "url = 'https://raw.githubusercontent.com/dkulagin/kartaslov/master/dataset/kartaslovsent/kartaslovsent.csv'\n",
    "path = './csv/kartaslovsent.csv'\n",
    "if not os.path.isfile(\"./csv/kartaslovsent.csv\"):\n",
    "    wget.download(url, out=path)"
   ]
  },
  {
   "cell_type": "code",
   "execution_count": 5,
   "id": "0cbbb798-4d45-4ddd-98de-588df54040b5",
   "metadata": {
    "ExecuteTime": {
     "end_time": "2024-04-15T13:54:55.668822Z",
     "start_time": "2024-04-15T13:54:55.617302Z"
    }
   },
   "outputs": [],
   "source": [
    "df_tone_dictionary = pd.read_csv('./csv/kartaslovsent.csv', sep=';', on_bad_lines='skip')"
   ]
  },
  {
   "cell_type": "code",
   "execution_count": 6,
   "id": "a3f8871b-c8f2-4a5a-8383-b2bbe9837775",
   "metadata": {
    "ExecuteTime": {
     "end_time": "2024-04-15T13:54:57.124806Z",
     "start_time": "2024-04-15T13:54:57.100802Z"
    }
   },
   "outputs": [
    {
     "data": {
      "text/html": [
       "<div>\n",
       "<style scoped>\n",
       "    .dataframe tbody tr th:only-of-type {\n",
       "        vertical-align: middle;\n",
       "    }\n",
       "\n",
       "    .dataframe tbody tr th {\n",
       "        vertical-align: top;\n",
       "    }\n",
       "\n",
       "    .dataframe thead th {\n",
       "        text-align: right;\n",
       "    }\n",
       "</style>\n",
       "<table border=\"1\" class=\"dataframe\">\n",
       "  <thead>\n",
       "    <tr style=\"text-align: right;\">\n",
       "      <th></th>\n",
       "      <th>term</th>\n",
       "      <th>tag</th>\n",
       "      <th>value</th>\n",
       "      <th>pstv</th>\n",
       "      <th>ngtv</th>\n",
       "      <th>neut</th>\n",
       "      <th>dunno</th>\n",
       "      <th>pstvNgtvDisagreementRatio</th>\n",
       "    </tr>\n",
       "  </thead>\n",
       "  <tbody>\n",
       "    <tr>\n",
       "      <th>0</th>\n",
       "      <td>абажур</td>\n",
       "      <td>NEUT</td>\n",
       "      <td>0.08</td>\n",
       "      <td>0.185</td>\n",
       "      <td>0.037</td>\n",
       "      <td>0.580</td>\n",
       "      <td>0.198</td>\n",
       "      <td>0.00</td>\n",
       "    </tr>\n",
       "    <tr>\n",
       "      <th>1</th>\n",
       "      <td>аббатство</td>\n",
       "      <td>NEUT</td>\n",
       "      <td>0.10</td>\n",
       "      <td>0.192</td>\n",
       "      <td>0.038</td>\n",
       "      <td>0.578</td>\n",
       "      <td>0.192</td>\n",
       "      <td>0.00</td>\n",
       "    </tr>\n",
       "    <tr>\n",
       "      <th>2</th>\n",
       "      <td>аббревиатура</td>\n",
       "      <td>NEUT</td>\n",
       "      <td>0.08</td>\n",
       "      <td>0.196</td>\n",
       "      <td>0.000</td>\n",
       "      <td>0.630</td>\n",
       "      <td>0.174</td>\n",
       "      <td>0.00</td>\n",
       "    </tr>\n",
       "    <tr>\n",
       "      <th>3</th>\n",
       "      <td>абзац</td>\n",
       "      <td>NEUT</td>\n",
       "      <td>0.00</td>\n",
       "      <td>0.137</td>\n",
       "      <td>0.000</td>\n",
       "      <td>0.706</td>\n",
       "      <td>0.157</td>\n",
       "      <td>0.00</td>\n",
       "    </tr>\n",
       "    <tr>\n",
       "      <th>4</th>\n",
       "      <td>абиссинец</td>\n",
       "      <td>NEUT</td>\n",
       "      <td>0.28</td>\n",
       "      <td>0.151</td>\n",
       "      <td>0.113</td>\n",
       "      <td>0.245</td>\n",
       "      <td>0.491</td>\n",
       "      <td>0.19</td>\n",
       "    </tr>\n",
       "    <tr>\n",
       "      <th>...</th>\n",
       "      <td>...</td>\n",
       "      <td>...</td>\n",
       "      <td>...</td>\n",
       "      <td>...</td>\n",
       "      <td>...</td>\n",
       "      <td>...</td>\n",
       "      <td>...</td>\n",
       "      <td>...</td>\n",
       "    </tr>\n",
       "    <tr>\n",
       "      <th>46122</th>\n",
       "      <td>ёмкость</td>\n",
       "      <td>NEUT</td>\n",
       "      <td>0.00</td>\n",
       "      <td>0.167</td>\n",
       "      <td>0.000</td>\n",
       "      <td>0.690</td>\n",
       "      <td>0.143</td>\n",
       "      <td>0.00</td>\n",
       "    </tr>\n",
       "    <tr>\n",
       "      <th>46123</th>\n",
       "      <td>ёрзать</td>\n",
       "      <td>NGTV</td>\n",
       "      <td>-0.54</td>\n",
       "      <td>0.050</td>\n",
       "      <td>0.446</td>\n",
       "      <td>0.397</td>\n",
       "      <td>0.107</td>\n",
       "      <td>0.00</td>\n",
       "    </tr>\n",
       "    <tr>\n",
       "      <th>46124</th>\n",
       "      <td>ёрничать</td>\n",
       "      <td>NGTV</td>\n",
       "      <td>-0.79</td>\n",
       "      <td>0.078</td>\n",
       "      <td>0.529</td>\n",
       "      <td>0.236</td>\n",
       "      <td>0.157</td>\n",
       "      <td>0.00</td>\n",
       "    </tr>\n",
       "    <tr>\n",
       "      <th>46125</th>\n",
       "      <td>ёрш</td>\n",
       "      <td>NEUT</td>\n",
       "      <td>0.16</td>\n",
       "      <td>0.224</td>\n",
       "      <td>0.072</td>\n",
       "      <td>0.576</td>\n",
       "      <td>0.128</td>\n",
       "      <td>0.00</td>\n",
       "    </tr>\n",
       "    <tr>\n",
       "      <th>46126</th>\n",
       "      <td>ёршик</td>\n",
       "      <td>NEUT</td>\n",
       "      <td>0.00</td>\n",
       "      <td>0.152</td>\n",
       "      <td>0.043</td>\n",
       "      <td>0.718</td>\n",
       "      <td>0.087</td>\n",
       "      <td>0.00</td>\n",
       "    </tr>\n",
       "  </tbody>\n",
       "</table>\n",
       "<p>46127 rows × 8 columns</p>\n",
       "</div>"
      ],
      "text/plain": [
       "               term   tag  value   pstv   ngtv   neut  dunno  \\\n",
       "0            абажур  NEUT   0.08  0.185  0.037  0.580  0.198   \n",
       "1         аббатство  NEUT   0.10  0.192  0.038  0.578  0.192   \n",
       "2      аббревиатура  NEUT   0.08  0.196  0.000  0.630  0.174   \n",
       "3             абзац  NEUT   0.00  0.137  0.000  0.706  0.157   \n",
       "4         абиссинец  NEUT   0.28  0.151  0.113  0.245  0.491   \n",
       "...             ...   ...    ...    ...    ...    ...    ...   \n",
       "46122       ёмкость  NEUT   0.00  0.167  0.000  0.690  0.143   \n",
       "46123        ёрзать  NGTV  -0.54  0.050  0.446  0.397  0.107   \n",
       "46124      ёрничать  NGTV  -0.79  0.078  0.529  0.236  0.157   \n",
       "46125           ёрш  NEUT   0.16  0.224  0.072  0.576  0.128   \n",
       "46126         ёршик  NEUT   0.00  0.152  0.043  0.718  0.087   \n",
       "\n",
       "       pstvNgtvDisagreementRatio  \n",
       "0                           0.00  \n",
       "1                           0.00  \n",
       "2                           0.00  \n",
       "3                           0.00  \n",
       "4                           0.19  \n",
       "...                          ...  \n",
       "46122                       0.00  \n",
       "46123                       0.00  \n",
       "46124                       0.00  \n",
       "46125                       0.00  \n",
       "46126                       0.00  \n",
       "\n",
       "[46127 rows x 8 columns]"
      ]
     },
     "execution_count": 6,
     "metadata": {},
     "output_type": "execute_result"
    }
   ],
   "source": [
    "df_tone_dictionary"
   ]
  },
  {
   "cell_type": "code",
   "execution_count": 7,
   "id": "e9300e38-2903-45a6-a0b7-4305fc725f41",
   "metadata": {
    "ExecuteTime": {
     "end_time": "2024-04-15T13:55:00.230305Z",
     "start_time": "2024-04-15T13:55:00.211396Z"
    }
   },
   "outputs": [],
   "source": [
    "title_news_1, title_news_2 = train_test_split(news['title'], train_size=5, random_state=42)"
   ]
  },
  {
   "cell_type": "code",
   "execution_count": 8,
   "id": "075b0620-7aa6-496e-ab1b-53b215bafa44",
   "metadata": {
    "ExecuteTime": {
     "end_time": "2024-04-15T13:55:01.751979Z",
     "start_time": "2024-04-15T13:55:01.734980Z"
    }
   },
   "outputs": [],
   "source": [
    "df_title_news_1 = pd.DataFrame(title_news_1)\n",
    "df_title_news_2 = pd.DataFrame(title_news_2)"
   ]
  },
  {
   "cell_type": "code",
   "execution_count": 9,
   "id": "5e897675-9888-4cd1-8e3c-5db5f866bea5",
   "metadata": {
    "ExecuteTime": {
     "end_time": "2024-04-15T13:55:02.962475Z",
     "start_time": "2024-04-15T13:55:02.951470Z"
    }
   },
   "outputs": [
    {
     "data": {
      "text/html": [
       "<div>\n",
       "<style scoped>\n",
       "    .dataframe tbody tr th:only-of-type {\n",
       "        vertical-align: middle;\n",
       "    }\n",
       "\n",
       "    .dataframe tbody tr th {\n",
       "        vertical-align: top;\n",
       "    }\n",
       "\n",
       "    .dataframe thead th {\n",
       "        text-align: right;\n",
       "    }\n",
       "</style>\n",
       "<table border=\"1\" class=\"dataframe\">\n",
       "  <thead>\n",
       "    <tr style=\"text-align: right;\">\n",
       "      <th></th>\n",
       "      <th>title</th>\n",
       "    </tr>\n",
       "  </thead>\n",
       "  <tbody>\n",
       "    <tr>\n",
       "      <th>5734</th>\n",
       "      <td>Ястржембский называет имя арестованного за взр...</td>\n",
       "    </tr>\n",
       "    <tr>\n",
       "      <th>5191</th>\n",
       "      <td>Чемпионат Италии: \"Ювентус\" ушел в отрыв</td>\n",
       "    </tr>\n",
       "    <tr>\n",
       "      <th>5390</th>\n",
       "      <td>Из Чернокозово отпущены первые амнистированные...</td>\n",
       "    </tr>\n",
       "    <tr>\n",
       "      <th>860</th>\n",
       "      <td>Парламент Украины затребовал у Конгресса США п...</td>\n",
       "    </tr>\n",
       "    <tr>\n",
       "      <th>7270</th>\n",
       "      <td>Пилот Формулы-1 уцелел в авиакатастрофе</td>\n",
       "    </tr>\n",
       "  </tbody>\n",
       "</table>\n",
       "</div>"
      ],
      "text/plain": [
       "                                                  title\n",
       "5734  Ястржембский называет имя арестованного за взр...\n",
       "5191           Чемпионат Италии: \"Ювентус\" ушел в отрыв\n",
       "5390  Из Чернокозово отпущены первые амнистированные...\n",
       "860   Парламент Украины затребовал у Конгресса США п...\n",
       "7270            Пилот Формулы-1 уцелел в авиакатастрофе"
      ]
     },
     "execution_count": 9,
     "metadata": {},
     "output_type": "execute_result"
    }
   ],
   "source": [
    "df_title_news_1.head()"
   ]
  },
  {
   "cell_type": "code",
   "execution_count": 10,
   "id": "b07a9a65-b121-4b79-91c4-383c24276b11",
   "metadata": {
    "ExecuteTime": {
     "end_time": "2024-04-15T13:55:04.165476Z",
     "start_time": "2024-04-15T13:55:04.158714Z"
    }
   },
   "outputs": [
    {
     "data": {
      "text/html": [
       "<div>\n",
       "<style scoped>\n",
       "    .dataframe tbody tr th:only-of-type {\n",
       "        vertical-align: middle;\n",
       "    }\n",
       "\n",
       "    .dataframe tbody tr th {\n",
       "        vertical-align: top;\n",
       "    }\n",
       "\n",
       "    .dataframe thead th {\n",
       "        text-align: right;\n",
       "    }\n",
       "</style>\n",
       "<table border=\"1\" class=\"dataframe\">\n",
       "  <thead>\n",
       "    <tr style=\"text-align: right;\">\n",
       "      <th></th>\n",
       "      <th>title</th>\n",
       "    </tr>\n",
       "  </thead>\n",
       "  <tbody>\n",
       "    <tr>\n",
       "      <th>6252</th>\n",
       "      <td>Чтобы не платить налог, интернет-изданиям нужн...</td>\n",
       "    </tr>\n",
       "    <tr>\n",
       "      <th>4684</th>\n",
       "      <td>Кубинского дипломата выставили из США</td>\n",
       "    </tr>\n",
       "    <tr>\n",
       "      <th>1731</th>\n",
       "      <td>Правительство РФ: третье тысячеление наступит ...</td>\n",
       "    </tr>\n",
       "    <tr>\n",
       "      <th>4742</th>\n",
       "      <td>Взрывчатку в Сибирь отправили по почте</td>\n",
       "    </tr>\n",
       "    <tr>\n",
       "      <th>4521</th>\n",
       "      <td>В Дагестане совершено покушение на генерала по...</td>\n",
       "    </tr>\n",
       "  </tbody>\n",
       "</table>\n",
       "</div>"
      ],
      "text/plain": [
       "                                                  title\n",
       "6252  Чтобы не платить налог, интернет-изданиям нужн...\n",
       "4684              Кубинского дипломата выставили из США\n",
       "1731  Правительство РФ: третье тысячеление наступит ...\n",
       "4742             Взрывчатку в Сибирь отправили по почте\n",
       "4521  В Дагестане совершено покушение на генерала по..."
      ]
     },
     "execution_count": 10,
     "metadata": {},
     "output_type": "execute_result"
    }
   ],
   "source": [
    "df_title_news_2.head()"
   ]
  },
  {
   "cell_type": "code",
   "execution_count": 11,
   "id": "e67f3444-722a-4917-ad26-60c826d5d035",
   "metadata": {
    "ExecuteTime": {
     "end_time": "2024-04-15T13:55:07.596701Z",
     "start_time": "2024-04-15T13:55:07.591704Z"
    }
   },
   "outputs": [],
   "source": [
    "def get_sentiment(text, df_td=df_tone_dictionary):\n",
    "    words = nltk.word_tokenize(text.lower())\n",
    "    sum_value = 0\n",
    "    \n",
    "    for word in words:\n",
    "        if len(df_td[df_td.term == word]):\n",
    "            df_filtered = df_td[df_td['term'] == word]\n",
    "            value = df_filtered['value'].iloc[0]\n",
    "            sum_value += value\n",
    " \n",
    "    return sum_value   \n"
   ]
  },
  {
   "cell_type": "code",
   "execution_count": 12,
   "id": "6344c0cd-e48e-43a4-9242-cdad8895e3e0",
   "metadata": {
    "ExecuteTime": {
     "end_time": "2024-04-15T14:16:25.400466Z",
     "start_time": "2024-04-15T14:16:25.396467Z"
    }
   },
   "outputs": [],
   "source": [
    "def get_sentiment_label(score):\n",
    "    if score < -0.35:\n",
    "        return 'negative'  \n",
    "    elif score >= 0.55:\n",
    "        return 'positive' \n",
    "    else:\n",
    "        return 'neutral'"
   ]
  },
  {
   "cell_type": "markdown",
   "id": "0bc1a3f6-2453-42f5-b396-ea46e81d6c64",
   "metadata": {},
   "source": [
    "#### Проверка функций"
   ]
  },
  {
   "cell_type": "code",
   "execution_count": 13,
   "id": "5d8785cd-e559-405c-a344-94d731dfbe3a",
   "metadata": {
    "ExecuteTime": {
     "end_time": "2024-04-15T14:16:30.910490Z",
     "start_time": "2024-04-15T14:16:30.885780Z"
    }
   },
   "outputs": [
    {
     "name": "stdout",
     "output_type": "stream",
     "text": [
      "CPU times: total: 0 ns\n",
      "Wall time: 23.4 ms\n"
     ]
    },
    {
     "data": {
      "text/plain": [
       "0.55"
      ]
     },
     "execution_count": 13,
     "metadata": {},
     "output_type": "execute_result"
    }
   ],
   "source": [
    "%%time\n",
    "get_sentiment('Жаль, что Аист прилетел')"
   ]
  },
  {
   "cell_type": "code",
   "execution_count": 14,
   "id": "dd826400-e1f8-4328-a60c-6d8f411a6d88",
   "metadata": {
    "ExecuteTime": {
     "end_time": "2024-04-15T13:45:25.271831Z",
     "start_time": "2024-04-15T13:45:25.247830Z"
    }
   },
   "outputs": [
    {
     "data": {
      "text/plain": [
       "-1.0"
      ]
     },
     "execution_count": 14,
     "metadata": {},
     "output_type": "execute_result"
    }
   ],
   "source": [
    "get_sentiment('кто убийца')"
   ]
  },
  {
   "cell_type": "code",
   "execution_count": 15,
   "id": "23d0defa-5dac-4e12-94ee-a971bd799fd6",
   "metadata": {},
   "outputs": [
    {
     "data": {
      "text/plain": [
       "0"
      ]
     },
     "execution_count": 15,
     "metadata": {},
     "output_type": "execute_result"
    }
   ],
   "source": [
    "get_sentiment('Всё в норме')"
   ]
  },
  {
   "cell_type": "code",
   "execution_count": 16,
   "id": "ccd4f04c-f352-4fae-b94d-55ba2c16ece7",
   "metadata": {
    "ExecuteTime": {
     "end_time": "2024-04-15T13:45:28.554069Z",
     "start_time": "2024-04-15T13:45:28.531563Z"
    }
   },
   "outputs": [
    {
     "data": {
      "text/plain": [
       "'positive'"
      ]
     },
     "execution_count": 16,
     "metadata": {},
     "output_type": "execute_result"
    }
   ],
   "source": [
    "get_sentiment_label(get_sentiment('Превосходно, что Аист прилетел'))"
   ]
  },
  {
   "cell_type": "code",
   "execution_count": 17,
   "id": "3d9e2fdc-a4f7-4a4d-b7f9-32d37e30b62c",
   "metadata": {
    "ExecuteTime": {
     "end_time": "2024-04-15T13:45:29.864945Z",
     "start_time": "2024-04-15T13:45:29.847944Z"
    }
   },
   "outputs": [
    {
     "data": {
      "text/plain": [
       "'negative'"
      ]
     },
     "execution_count": 17,
     "metadata": {},
     "output_type": "execute_result"
    }
   ],
   "source": [
    "get_sentiment_label(get_sentiment('Удар молнии'))"
   ]
  },
  {
   "cell_type": "code",
   "execution_count": 18,
   "id": "d9f7ddf2-bafc-422a-a18c-5969556e675d",
   "metadata": {},
   "outputs": [
    {
     "data": {
      "text/plain": [
       "'neutral'"
      ]
     },
     "execution_count": 18,
     "metadata": {},
     "output_type": "execute_result"
    }
   ],
   "source": [
    "get_sentiment_label(get_sentiment('Всё в норме'))"
   ]
  },
  {
   "cell_type": "code",
   "execution_count": 19,
   "id": "4a6cf815-d83d-4f0f-845a-7ca5c942aff0",
   "metadata": {},
   "outputs": [
    {
     "name": "stdout",
     "output_type": "stream",
     "text": [
      "CPU times: total: 2min 44s\n",
      "Wall time: 2min 45s\n"
     ]
    }
   ],
   "source": [
    "%%time\n",
    "df_title_news_2['sentiment'] = df_title_news_2['title'].apply(get_sentiment)\n",
    "df_title_news_2['sentiment_label'] = df_title_news_2['sentiment'].apply(get_sentiment_label)"
   ]
  },
  {
   "cell_type": "code",
   "execution_count": 20,
   "id": "17a3944b-188e-4c0e-8324-10bf9f41e04d",
   "metadata": {},
   "outputs": [
    {
     "data": {
      "text/html": [
       "<div>\n",
       "<style scoped>\n",
       "    .dataframe tbody tr th:only-of-type {\n",
       "        vertical-align: middle;\n",
       "    }\n",
       "\n",
       "    .dataframe tbody tr th {\n",
       "        vertical-align: top;\n",
       "    }\n",
       "\n",
       "    .dataframe thead th {\n",
       "        text-align: right;\n",
       "    }\n",
       "</style>\n",
       "<table border=\"1\" class=\"dataframe\">\n",
       "  <thead>\n",
       "    <tr style=\"text-align: right;\">\n",
       "      <th></th>\n",
       "      <th>title</th>\n",
       "      <th>sentiment</th>\n",
       "      <th>sentiment_label</th>\n",
       "    </tr>\n",
       "  </thead>\n",
       "  <tbody>\n",
       "    <tr>\n",
       "      <th>6252</th>\n",
       "      <td>Чтобы не платить налог, интернет-изданиям нужн...</td>\n",
       "      <td>-0.26</td>\n",
       "      <td>neutral</td>\n",
       "    </tr>\n",
       "    <tr>\n",
       "      <th>4684</th>\n",
       "      <td>Кубинского дипломата выставили из США</td>\n",
       "      <td>0.00</td>\n",
       "      <td>neutral</td>\n",
       "    </tr>\n",
       "    <tr>\n",
       "      <th>1731</th>\n",
       "      <td>Правительство РФ: третье тысячеление наступит ...</td>\n",
       "      <td>-0.14</td>\n",
       "      <td>neutral</td>\n",
       "    </tr>\n",
       "    <tr>\n",
       "      <th>4742</th>\n",
       "      <td>Взрывчатку в Сибирь отправили по почте</td>\n",
       "      <td>0.00</td>\n",
       "      <td>neutral</td>\n",
       "    </tr>\n",
       "    <tr>\n",
       "      <th>4521</th>\n",
       "      <td>В Дагестане совершено покушение на генерала по...</td>\n",
       "      <td>-1.00</td>\n",
       "      <td>negative</td>\n",
       "    </tr>\n",
       "  </tbody>\n",
       "</table>\n",
       "</div>"
      ],
      "text/plain": [
       "                                                  title  sentiment  \\\n",
       "6252  Чтобы не платить налог, интернет-изданиям нужн...      -0.26   \n",
       "4684              Кубинского дипломата выставили из США       0.00   \n",
       "1731  Правительство РФ: третье тысячеление наступит ...      -0.14   \n",
       "4742             Взрывчатку в Сибирь отправили по почте       0.00   \n",
       "4521  В Дагестане совершено покушение на генерала по...      -1.00   \n",
       "\n",
       "     sentiment_label  \n",
       "6252         neutral  \n",
       "4684         neutral  \n",
       "1731         neutral  \n",
       "4742         neutral  \n",
       "4521        negative  "
      ]
     },
     "execution_count": 20,
     "metadata": {},
     "output_type": "execute_result"
    }
   ],
   "source": [
    "df_title_news_2.head()"
   ]
  },
  {
   "cell_type": "code",
   "execution_count": 21,
   "id": "53e8dbd6-cc26-44ed-b294-97ccfcdb2a31",
   "metadata": {},
   "outputs": [
    {
     "data": {
      "text/plain": [
       "(9995, 3)"
      ]
     },
     "execution_count": 21,
     "metadata": {},
     "output_type": "execute_result"
    }
   ],
   "source": [
    "df_title_news_2.shape"
   ]
  },
  {
   "cell_type": "code",
   "execution_count": 22,
   "id": "c1f7dee9-e46b-430b-a0b2-8bc8e48a6863",
   "metadata": {},
   "outputs": [],
   "source": [
    "df_title_news_1.to_csv('./csv/manual_marking.csv', index=False)"
   ]
  },
  {
   "cell_type": "code",
   "execution_count": 23,
   "id": "8de78cfd-ce72-4b77-bb3d-d5aed0e3ae91",
   "metadata": {},
   "outputs": [
    {
     "name": "stdout",
     "output_type": "stream",
     "text": [
      "^C\n"
     ]
    }
   ],
   "source": [
    "!label-studio"
   ]
  },
  {
   "cell_type": "code",
   "execution_count": 24,
   "id": "cf7aadc6-96aa-414b-a573-21364fb63e88",
   "metadata": {},
   "outputs": [],
   "source": [
    "df_title_news_1 = pd.read_csv(\n",
    "    './csv/project-1-at-2024-05-23-00-48-c452bc36.csv', engine='python', on_bad_lines='skip')"
   ]
  },
  {
   "cell_type": "code",
   "execution_count": 25,
   "id": "0092004e-4c23-455b-812b-3b619fd811b6",
   "metadata": {},
   "outputs": [
    {
     "data": {
      "text/html": [
       "<div>\n",
       "<style scoped>\n",
       "    .dataframe tbody tr th:only-of-type {\n",
       "        vertical-align: middle;\n",
       "    }\n",
       "\n",
       "    .dataframe tbody tr th {\n",
       "        vertical-align: top;\n",
       "    }\n",
       "\n",
       "    .dataframe thead th {\n",
       "        text-align: right;\n",
       "    }\n",
       "</style>\n",
       "<table border=\"1\" class=\"dataframe\">\n",
       "  <thead>\n",
       "    <tr style=\"text-align: right;\">\n",
       "      <th></th>\n",
       "      <th>annotation_id</th>\n",
       "      <th>annotator</th>\n",
       "      <th>created_at</th>\n",
       "      <th>id</th>\n",
       "      <th>lead_time</th>\n",
       "      <th>sentiment</th>\n",
       "      <th>title</th>\n",
       "      <th>updated_at</th>\n",
       "    </tr>\n",
       "  </thead>\n",
       "  <tbody>\n",
       "    <tr>\n",
       "      <th>0</th>\n",
       "      <td>1</td>\n",
       "      <td>1</td>\n",
       "      <td>2024-05-22T17:47:39.999187Z</td>\n",
       "      <td>1</td>\n",
       "      <td>3.852</td>\n",
       "      <td>positive</td>\n",
       "      <td>Ястржембский называет имя арестованного за взр...</td>\n",
       "      <td>2024-05-22T17:47:39.999187Z</td>\n",
       "    </tr>\n",
       "    <tr>\n",
       "      <th>1</th>\n",
       "      <td>2</td>\n",
       "      <td>1</td>\n",
       "      <td>2024-05-22T17:47:44.540659Z</td>\n",
       "      <td>2</td>\n",
       "      <td>5.807</td>\n",
       "      <td>positive</td>\n",
       "      <td>Чемпионат Италии: \"Ювентус\" ушел в отрыв</td>\n",
       "      <td>2024-05-22T17:47:44.540659Z</td>\n",
       "    </tr>\n",
       "    <tr>\n",
       "      <th>2</th>\n",
       "      <td>3</td>\n",
       "      <td>1</td>\n",
       "      <td>2024-05-22T17:47:56.903677Z</td>\n",
       "      <td>3</td>\n",
       "      <td>16.999</td>\n",
       "      <td>neutral</td>\n",
       "      <td>Из Чернокозово отпущены первые амнистированные...</td>\n",
       "      <td>2024-05-22T17:47:56.903677Z</td>\n",
       "    </tr>\n",
       "    <tr>\n",
       "      <th>3</th>\n",
       "      <td>4</td>\n",
       "      <td>1</td>\n",
       "      <td>2024-05-22T17:48:04.459623Z</td>\n",
       "      <td>4</td>\n",
       "      <td>6.029</td>\n",
       "      <td>negative</td>\n",
       "      <td>Парламент Украины затребовал у Конгресса США п...</td>\n",
       "      <td>2024-05-22T17:48:04.459623Z</td>\n",
       "    </tr>\n",
       "    <tr>\n",
       "      <th>4</th>\n",
       "      <td>5</td>\n",
       "      <td>1</td>\n",
       "      <td>2024-05-22T17:48:08.425022Z</td>\n",
       "      <td>5</td>\n",
       "      <td>20.555</td>\n",
       "      <td>positive</td>\n",
       "      <td>Пилот Формулы-1 уцелел в авиакатастрофе</td>\n",
       "      <td>2024-05-22T17:48:14.447106Z</td>\n",
       "    </tr>\n",
       "  </tbody>\n",
       "</table>\n",
       "</div>"
      ],
      "text/plain": [
       "   annotation_id  annotator                   created_at  id  lead_time  \\\n",
       "0              1          1  2024-05-22T17:47:39.999187Z   1      3.852   \n",
       "1              2          1  2024-05-22T17:47:44.540659Z   2      5.807   \n",
       "2              3          1  2024-05-22T17:47:56.903677Z   3     16.999   \n",
       "3              4          1  2024-05-22T17:48:04.459623Z   4      6.029   \n",
       "4              5          1  2024-05-22T17:48:08.425022Z   5     20.555   \n",
       "\n",
       "  sentiment                                              title  \\\n",
       "0  positive  Ястржембский называет имя арестованного за взр...   \n",
       "1  positive           Чемпионат Италии: \"Ювентус\" ушел в отрыв   \n",
       "2   neutral  Из Чернокозово отпущены первые амнистированные...   \n",
       "3  negative  Парламент Украины затребовал у Конгресса США п...   \n",
       "4  positive            Пилот Формулы-1 уцелел в авиакатастрофе   \n",
       "\n",
       "                    updated_at  \n",
       "0  2024-05-22T17:47:39.999187Z  \n",
       "1  2024-05-22T17:47:44.540659Z  \n",
       "2  2024-05-22T17:47:56.903677Z  \n",
       "3  2024-05-22T17:48:04.459623Z  \n",
       "4  2024-05-22T17:48:14.447106Z  "
      ]
     },
     "execution_count": 25,
     "metadata": {},
     "output_type": "execute_result"
    }
   ],
   "source": [
    "df_title_news_1.head()"
   ]
  },
  {
   "cell_type": "code",
   "execution_count": 26,
   "id": "34cbf5ba-f29e-459b-adb8-e7c8f8bad5b9",
   "metadata": {},
   "outputs": [],
   "source": [
    "df_title_news_1 = df_title_news_1[['title', 'sentiment']].rename(columns={'sentiment': 'sentiment_label'})"
   ]
  },
  {
   "cell_type": "code",
   "execution_count": 27,
   "id": "c06d879c-31d1-4aaa-9b7d-04f744502d71",
   "metadata": {},
   "outputs": [
    {
     "data": {
      "text/html": [
       "<div>\n",
       "<style scoped>\n",
       "    .dataframe tbody tr th:only-of-type {\n",
       "        vertical-align: middle;\n",
       "    }\n",
       "\n",
       "    .dataframe tbody tr th {\n",
       "        vertical-align: top;\n",
       "    }\n",
       "\n",
       "    .dataframe thead th {\n",
       "        text-align: right;\n",
       "    }\n",
       "</style>\n",
       "<table border=\"1\" class=\"dataframe\">\n",
       "  <thead>\n",
       "    <tr style=\"text-align: right;\">\n",
       "      <th></th>\n",
       "      <th>title</th>\n",
       "      <th>sentiment_label</th>\n",
       "    </tr>\n",
       "  </thead>\n",
       "  <tbody>\n",
       "    <tr>\n",
       "      <th>0</th>\n",
       "      <td>Ястржембский называет имя арестованного за взр...</td>\n",
       "      <td>positive</td>\n",
       "    </tr>\n",
       "    <tr>\n",
       "      <th>1</th>\n",
       "      <td>Чемпионат Италии: \"Ювентус\" ушел в отрыв</td>\n",
       "      <td>positive</td>\n",
       "    </tr>\n",
       "    <tr>\n",
       "      <th>2</th>\n",
       "      <td>Из Чернокозово отпущены первые амнистированные...</td>\n",
       "      <td>neutral</td>\n",
       "    </tr>\n",
       "    <tr>\n",
       "      <th>3</th>\n",
       "      <td>Парламент Украины затребовал у Конгресса США п...</td>\n",
       "      <td>negative</td>\n",
       "    </tr>\n",
       "    <tr>\n",
       "      <th>4</th>\n",
       "      <td>Пилот Формулы-1 уцелел в авиакатастрофе</td>\n",
       "      <td>positive</td>\n",
       "    </tr>\n",
       "  </tbody>\n",
       "</table>\n",
       "</div>"
      ],
      "text/plain": [
       "                                               title sentiment_label\n",
       "0  Ястржембский называет имя арестованного за взр...        positive\n",
       "1           Чемпионат Италии: \"Ювентус\" ушел в отрыв        positive\n",
       "2  Из Чернокозово отпущены первые амнистированные...         neutral\n",
       "3  Парламент Украины затребовал у Конгресса США п...        negative\n",
       "4            Пилот Формулы-1 уцелел в авиакатастрофе        positive"
      ]
     },
     "execution_count": 27,
     "metadata": {},
     "output_type": "execute_result"
    }
   ],
   "source": [
    "df_title_news_1.head()"
   ]
  },
  {
   "cell_type": "code",
   "execution_count": 28,
   "id": "731f8698-0957-44e4-beaa-135242de80ab",
   "metadata": {},
   "outputs": [],
   "source": [
    "df_title_news_concat = pd.concat([\n",
    "    df_title_news_1,\n",
    "    df_title_news_2,\n",
    "], axis=0)\n",
    "del df_title_news_concat['sentiment']"
   ]
  },
  {
   "cell_type": "code",
   "execution_count": 29,
   "id": "97317487-003f-419e-be55-3ee5ce66d2da",
   "metadata": {},
   "outputs": [
    {
     "data": {
      "text/html": [
       "<div>\n",
       "<style scoped>\n",
       "    .dataframe tbody tr th:only-of-type {\n",
       "        vertical-align: middle;\n",
       "    }\n",
       "\n",
       "    .dataframe tbody tr th {\n",
       "        vertical-align: top;\n",
       "    }\n",
       "\n",
       "    .dataframe thead th {\n",
       "        text-align: right;\n",
       "    }\n",
       "</style>\n",
       "<table border=\"1\" class=\"dataframe\">\n",
       "  <thead>\n",
       "    <tr style=\"text-align: right;\">\n",
       "      <th></th>\n",
       "      <th>title</th>\n",
       "      <th>sentiment_label</th>\n",
       "    </tr>\n",
       "  </thead>\n",
       "  <tbody>\n",
       "    <tr>\n",
       "      <th>0</th>\n",
       "      <td>Ястржембский называет имя арестованного за взр...</td>\n",
       "      <td>positive</td>\n",
       "    </tr>\n",
       "    <tr>\n",
       "      <th>1</th>\n",
       "      <td>Чемпионат Италии: \"Ювентус\" ушел в отрыв</td>\n",
       "      <td>positive</td>\n",
       "    </tr>\n",
       "    <tr>\n",
       "      <th>2</th>\n",
       "      <td>Из Чернокозово отпущены первые амнистированные...</td>\n",
       "      <td>neutral</td>\n",
       "    </tr>\n",
       "    <tr>\n",
       "      <th>3</th>\n",
       "      <td>Парламент Украины затребовал у Конгресса США п...</td>\n",
       "      <td>negative</td>\n",
       "    </tr>\n",
       "    <tr>\n",
       "      <th>4</th>\n",
       "      <td>Пилот Формулы-1 уцелел в авиакатастрофе</td>\n",
       "      <td>positive</td>\n",
       "    </tr>\n",
       "  </tbody>\n",
       "</table>\n",
       "</div>"
      ],
      "text/plain": [
       "                                               title sentiment_label\n",
       "0  Ястржембский называет имя арестованного за взр...        positive\n",
       "1           Чемпионат Италии: \"Ювентус\" ушел в отрыв        positive\n",
       "2  Из Чернокозово отпущены первые амнистированные...         neutral\n",
       "3  Парламент Украины затребовал у Конгресса США п...        negative\n",
       "4            Пилот Формулы-1 уцелел в авиакатастрофе        positive"
      ]
     },
     "execution_count": 29,
     "metadata": {},
     "output_type": "execute_result"
    }
   ],
   "source": [
    "df_title_news_concat.head()"
   ]
  },
  {
   "cell_type": "code",
   "execution_count": 30,
   "id": "17110bdb-81f3-47ff-97d4-75fba9c04a54",
   "metadata": {},
   "outputs": [
    {
     "data": {
      "text/plain": [
       "(10000, 2)"
      ]
     },
     "execution_count": 30,
     "metadata": {},
     "output_type": "execute_result"
    }
   ],
   "source": [
    "df_title_news_concat.shape"
   ]
  },
  {
   "cell_type": "code",
   "execution_count": 31,
   "id": "67c25d2e-0d7a-4745-80be-8467820e72d0",
   "metadata": {},
   "outputs": [
    {
     "data": {
      "text/plain": [
       "<Axes: >"
      ]
     },
     "execution_count": 31,
     "metadata": {},
     "output_type": "execute_result"
    },
    {
     "data": {
      "image/png": "[encoded data removed]",
      "text/plain": [
       "<Figure size 640x480 with 1 Axes>"
      ]
     },
     "metadata": {},
     "output_type": "display_data"
    }
   ],
   "source": [
    "df_title_news_concat['sentiment_label'].hist()"
   ]
  },
  {
   "cell_type": "code",
   "execution_count": 32,
   "id": "e84b4ed9-7207-4cb0-bd20-ed183bd1fe48",
   "metadata": {},
   "outputs": [
    {
     "data": {
      "text/html": [
       "<div>\n",
       "<style scoped>\n",
       "    .dataframe tbody tr th:only-of-type {\n",
       "        vertical-align: middle;\n",
       "    }\n",
       "\n",
       "    .dataframe tbody tr th {\n",
       "        vertical-align: top;\n",
       "    }\n",
       "\n",
       "    .dataframe thead tr th {\n",
       "        text-align: left;\n",
       "    }\n",
       "\n",
       "    .dataframe thead tr:last-of-type th {\n",
       "        text-align: right;\n",
       "    }\n",
       "</style>\n",
       "<table border=\"1\" class=\"dataframe\">\n",
       "  <thead>\n",
       "    <tr>\n",
       "      <th></th>\n",
       "      <th>sentiment_label</th>\n",
       "    </tr>\n",
       "    <tr>\n",
       "      <th></th>\n",
       "      <th>count</th>\n",
       "    </tr>\n",
       "    <tr>\n",
       "      <th>sentiment_label</th>\n",
       "      <th></th>\n",
       "    </tr>\n",
       "  </thead>\n",
       "  <tbody>\n",
       "    <tr>\n",
       "      <th>negative</th>\n",
       "      <td>1186</td>\n",
       "    </tr>\n",
       "    <tr>\n",
       "      <th>neutral</th>\n",
       "      <td>7462</td>\n",
       "    </tr>\n",
       "    <tr>\n",
       "      <th>positive</th>\n",
       "      <td>1352</td>\n",
       "    </tr>\n",
       "  </tbody>\n",
       "</table>\n",
       "</div>"
      ],
      "text/plain": [
       "                sentiment_label\n",
       "                          count\n",
       "sentiment_label                \n",
       "negative                   1186\n",
       "neutral                    7462\n",
       "positive                   1352"
      ]
     },
     "execution_count": 32,
     "metadata": {},
     "output_type": "execute_result"
    }
   ],
   "source": [
    "df_title_news_concat.groupby(['sentiment_label']).agg({'sentiment_label': ['count']})"
   ]
  },
  {
   "cell_type": "code",
   "execution_count": 33,
   "id": "67e47435-7936-4067-9f00-6612e1886395",
   "metadata": {},
   "outputs": [],
   "source": [
    "le = LabelEncoder()\n",
    "df_title_news_concat['sentiment_label'] = le.fit_transform(df_title_news_concat['sentiment_label'].astype(str))"
   ]
  },
  {
   "cell_type": "code",
   "execution_count": 34,
   "id": "da9a770d-da3f-46cd-bcd8-5c2c07a5f3b7",
   "metadata": {},
   "outputs": [
    {
     "data": {
      "text/html": [
       "<div>\n",
       "<style scoped>\n",
       "    .dataframe tbody tr th:only-of-type {\n",
       "        vertical-align: middle;\n",
       "    }\n",
       "\n",
       "    .dataframe tbody tr th {\n",
       "        vertical-align: top;\n",
       "    }\n",
       "\n",
       "    .dataframe thead th {\n",
       "        text-align: right;\n",
       "    }\n",
       "</style>\n",
       "<table border=\"1\" class=\"dataframe\">\n",
       "  <thead>\n",
       "    <tr style=\"text-align: right;\">\n",
       "      <th></th>\n",
       "      <th>title</th>\n",
       "      <th>sentiment_label</th>\n",
       "    </tr>\n",
       "  </thead>\n",
       "  <tbody>\n",
       "    <tr>\n",
       "      <th>0</th>\n",
       "      <td>Ястржембский называет имя арестованного за взр...</td>\n",
       "      <td>2</td>\n",
       "    </tr>\n",
       "    <tr>\n",
       "      <th>1</th>\n",
       "      <td>Чемпионат Италии: \"Ювентус\" ушел в отрыв</td>\n",
       "      <td>2</td>\n",
       "    </tr>\n",
       "    <tr>\n",
       "      <th>2</th>\n",
       "      <td>Из Чернокозово отпущены первые амнистированные...</td>\n",
       "      <td>1</td>\n",
       "    </tr>\n",
       "    <tr>\n",
       "      <th>3</th>\n",
       "      <td>Парламент Украины затребовал у Конгресса США п...</td>\n",
       "      <td>0</td>\n",
       "    </tr>\n",
       "    <tr>\n",
       "      <th>4</th>\n",
       "      <td>Пилот Формулы-1 уцелел в авиакатастрофе</td>\n",
       "      <td>2</td>\n",
       "    </tr>\n",
       "  </tbody>\n",
       "</table>\n",
       "</div>"
      ],
      "text/plain": [
       "                                               title  sentiment_label\n",
       "0  Ястржембский называет имя арестованного за взр...                2\n",
       "1           Чемпионат Италии: \"Ювентус\" ушел в отрыв                2\n",
       "2  Из Чернокозово отпущены первые амнистированные...                1\n",
       "3  Парламент Украины затребовал у Конгресса США п...                0\n",
       "4            Пилот Формулы-1 уцелел в авиакатастрофе                2"
      ]
     },
     "execution_count": 34,
     "metadata": {},
     "output_type": "execute_result"
    }
   ],
   "source": [
    "df_title_news_concat.head()"
   ]
  },
  {
   "cell_type": "code",
   "execution_count": 35,
   "id": "216b3378-7617-425b-af09-f18671f821f2",
   "metadata": {},
   "outputs": [],
   "source": [
    "df_title_news_concat = shuffle(df_title_news_concat)"
   ]
  },
  {
   "cell_type": "code",
   "execution_count": 36,
   "id": "b24b667a-9f93-448e-8b2b-576212bb975d",
   "metadata": {},
   "outputs": [],
   "source": [
    "labeled_title, unlabeled_title = train_test_split(df_title_news_concat, train_size=0.2, random_state=42)"
   ]
  },
  {
   "cell_type": "code",
   "execution_count": 37,
   "id": "f6c5f34b-ac4a-44bc-ade6-946e493200dd",
   "metadata": {},
   "outputs": [
    {
     "data": {
      "text/html": [
       "<div>\n",
       "<style scoped>\n",
       "    .dataframe tbody tr th:only-of-type {\n",
       "        vertical-align: middle;\n",
       "    }\n",
       "\n",
       "    .dataframe tbody tr th {\n",
       "        vertical-align: top;\n",
       "    }\n",
       "\n",
       "    .dataframe thead th {\n",
       "        text-align: right;\n",
       "    }\n",
       "</style>\n",
       "<table border=\"1\" class=\"dataframe\">\n",
       "  <thead>\n",
       "    <tr style=\"text-align: right;\">\n",
       "      <th></th>\n",
       "      <th>title</th>\n",
       "      <th>sentiment_label</th>\n",
       "    </tr>\n",
       "  </thead>\n",
       "  <tbody>\n",
       "    <tr>\n",
       "      <th>4890</th>\n",
       "      <td>Игорь Иванов провел отдельную встречу с Мадлен...</td>\n",
       "      <td>1</td>\n",
       "    </tr>\n",
       "    <tr>\n",
       "      <th>1111</th>\n",
       "      <td>Лужков обещает кризис</td>\n",
       "      <td>0</td>\n",
       "    </tr>\n",
       "    <tr>\n",
       "      <th>6873</th>\n",
       "      <td>Комиссия ЕС закрыла изолятор в Червленой</td>\n",
       "      <td>0</td>\n",
       "    </tr>\n",
       "    <tr>\n",
       "      <th>9099</th>\n",
       "      <td>Из главной тюрьмы Соломоновых островов сбежали...</td>\n",
       "      <td>1</td>\n",
       "    </tr>\n",
       "    <tr>\n",
       "      <th>7316</th>\n",
       "      <td>300 тысячам россиян придется прийти в налогову...</td>\n",
       "      <td>1</td>\n",
       "    </tr>\n",
       "  </tbody>\n",
       "</table>\n",
       "</div>"
      ],
      "text/plain": [
       "                                                  title  sentiment_label\n",
       "4890  Игорь Иванов провел отдельную встречу с Мадлен...                1\n",
       "1111                              Лужков обещает кризис                0\n",
       "6873           Комиссия ЕС закрыла изолятор в Червленой                0\n",
       "9099  Из главной тюрьмы Соломоновых островов сбежали...                1\n",
       "7316  300 тысячам россиян придется прийти в налогову...                1"
      ]
     },
     "execution_count": 37,
     "metadata": {},
     "output_type": "execute_result"
    }
   ],
   "source": [
    "labeled_title.head()"
   ]
  },
  {
   "cell_type": "code",
   "execution_count": 38,
   "id": "81df271a-0e4b-408a-b633-3edee6b4ef6a",
   "metadata": {},
   "outputs": [
    {
     "data": {
      "text/html": [
       "<div>\n",
       "<style scoped>\n",
       "    .dataframe tbody tr th:only-of-type {\n",
       "        vertical-align: middle;\n",
       "    }\n",
       "\n",
       "    .dataframe tbody tr th {\n",
       "        vertical-align: top;\n",
       "    }\n",
       "\n",
       "    .dataframe thead th {\n",
       "        text-align: right;\n",
       "    }\n",
       "</style>\n",
       "<table border=\"1\" class=\"dataframe\">\n",
       "  <thead>\n",
       "    <tr style=\"text-align: right;\">\n",
       "      <th></th>\n",
       "      <th>title</th>\n",
       "      <th>sentiment_label</th>\n",
       "    </tr>\n",
       "  </thead>\n",
       "  <tbody>\n",
       "    <tr>\n",
       "      <th>6537</th>\n",
       "      <td>Леннокс Льюис теряет титул без боя</td>\n",
       "      <td>2</td>\n",
       "    </tr>\n",
       "    <tr>\n",
       "      <th>353</th>\n",
       "      <td>День рождения Лужкова: поздравление от Ельцина...</td>\n",
       "      <td>2</td>\n",
       "    </tr>\n",
       "    <tr>\n",
       "      <th>3909</th>\n",
       "      <td>Новое правительство Австрии приведено к присяге</td>\n",
       "      <td>1</td>\n",
       "    </tr>\n",
       "    <tr>\n",
       "      <th>7258</th>\n",
       "      <td>Организаторы нападения на Подмосковный ОМОН об...</td>\n",
       "      <td>0</td>\n",
       "    </tr>\n",
       "    <tr>\n",
       "      <th>9403</th>\n",
       "      <td>На Уимблдоне стартуют десять россиян</td>\n",
       "      <td>1</td>\n",
       "    </tr>\n",
       "  </tbody>\n",
       "</table>\n",
       "</div>"
      ],
      "text/plain": [
       "                                                  title  sentiment_label\n",
       "6537                 Леннокс Льюис теряет титул без боя                2\n",
       "353   День рождения Лужкова: поздравление от Ельцина...                2\n",
       "3909    Новое правительство Австрии приведено к присяге                1\n",
       "7258  Организаторы нападения на Подмосковный ОМОН об...                0\n",
       "9403               На Уимблдоне стартуют десять россиян                1"
      ]
     },
     "execution_count": 38,
     "metadata": {},
     "output_type": "execute_result"
    }
   ],
   "source": [
    "unlabeled_title.head()"
   ]
  },
  {
   "cell_type": "code",
   "execution_count": 39,
   "id": "79866b48-1b25-4fc1-88d4-e1ff98b87fbd",
   "metadata": {},
   "outputs": [],
   "source": [
    "def train_model(labeled_title):\n",
    "    vectorizer = TfidfVectorizer()\n",
    "    X = vectorizer.fit_transform(labeled_title['title'])\n",
    "    y = labeled_title['sentiment_label']\n",
    "\n",
    "    model = LogisticRegression()\n",
    "    model.fit(X, y)\n",
    "\n",
    "    return model, vectorizer"
   ]
  },
  {
   "cell_type": "code",
   "execution_count": 40,
   "id": "6bf1d9ff-c43e-4755-a8dd-94cd991237f5",
   "metadata": {},
   "outputs": [],
   "source": [
    "model, vectorizer = train_model(labeled_title)"
   ]
  },
  {
   "cell_type": "code",
   "execution_count": 41,
   "id": "a1828418-5e26-477b-b3c8-c9887db57107",
   "metadata": {},
   "outputs": [],
   "source": [
    "X_unlabeled = vectorizer.transform(unlabeled_title['title'])\n",
    "y_unlabeled_predicted = model.predict(X_unlabeled)"
   ]
  },
  {
   "cell_type": "code",
   "execution_count": 42,
   "id": "d918abe3-f0b3-4ec1-9139-71102802cb72",
   "metadata": {},
   "outputs": [],
   "source": [
    "y_unlabeled_proba = model.predict_proba(X_unlabeled)\n",
    "uncertainty = -(y_unlabeled_proba * np.log2(y_unlabeled_proba)).sum(axis=1)"
   ]
  },
  {
   "cell_type": "code",
   "execution_count": 43,
   "id": "4fe5c34f-073c-4366-bfd3-ceabbebdc7f7",
   "metadata": {},
   "outputs": [],
   "source": [
    "labeled_title_new = unlabeled_title.iloc[uncertainty.argsort()[:100]]\n",
    "unlabeled_title_new = unlabeled_title.iloc[uncertainty.argsort()[100:]]"
   ]
  },
  {
   "cell_type": "code",
   "execution_count": 44,
   "id": "7bddbfaa-0c35-47e1-a0f0-dfbaa92d54bd",
   "metadata": {},
   "outputs": [
    {
     "data": {
      "text/html": [
       "<div>\n",
       "<style scoped>\n",
       "    .dataframe tbody tr th:only-of-type {\n",
       "        vertical-align: middle;\n",
       "    }\n",
       "\n",
       "    .dataframe tbody tr th {\n",
       "        vertical-align: top;\n",
       "    }\n",
       "\n",
       "    .dataframe thead th {\n",
       "        text-align: right;\n",
       "    }\n",
       "</style>\n",
       "<table border=\"1\" class=\"dataframe\">\n",
       "  <thead>\n",
       "    <tr style=\"text-align: right;\">\n",
       "      <th></th>\n",
       "      <th>title</th>\n",
       "      <th>sentiment_label</th>\n",
       "    </tr>\n",
       "  </thead>\n",
       "  <tbody>\n",
       "    <tr>\n",
       "      <th>7123</th>\n",
       "      <td>\"Газпром\" потребует от \"Медиа-Моста\" 211 милли...</td>\n",
       "      <td>1</td>\n",
       "    </tr>\n",
       "    <tr>\n",
       "      <th>6992</th>\n",
       "      <td>Подросток стрелял по людям из пневматического ...</td>\n",
       "      <td>1</td>\n",
       "    </tr>\n",
       "    <tr>\n",
       "      <th>4283</th>\n",
       "      <td>Минфин выплатит 101 тысячу долларов по иску ЗА...</td>\n",
       "      <td>1</td>\n",
       "    </tr>\n",
       "    <tr>\n",
       "      <th>4081</th>\n",
       "      <td>Правительство вкладывает 70 миллионов долларов...</td>\n",
       "      <td>1</td>\n",
       "    </tr>\n",
       "    <tr>\n",
       "      <th>2835</th>\n",
       "      <td>Суд обязал Минфин РФ выплатить 53 миллиона дол...</td>\n",
       "      <td>1</td>\n",
       "    </tr>\n",
       "    <tr>\n",
       "      <th>...</th>\n",
       "      <td>...</td>\n",
       "      <td>...</td>\n",
       "    </tr>\n",
       "    <tr>\n",
       "      <th>5047</th>\n",
       "      <td>Правительство распорядилось обеспечить Чечню и...</td>\n",
       "      <td>1</td>\n",
       "    </tr>\n",
       "    <tr>\n",
       "      <th>261</th>\n",
       "      <td>МВД создает службу по борьбе с мафией</td>\n",
       "      <td>1</td>\n",
       "    </tr>\n",
       "    <tr>\n",
       "      <th>2061</th>\n",
       "      <td>Россия выплачивает долги Парижскому клубу по г...</td>\n",
       "      <td>1</td>\n",
       "    </tr>\n",
       "    <tr>\n",
       "      <th>7290</th>\n",
       "      <td>Суд по \"делу Локерби\": ливийцы невиновны?</td>\n",
       "      <td>1</td>\n",
       "    </tr>\n",
       "    <tr>\n",
       "      <th>2870</th>\n",
       "      <td>\"Медиа-МОСТ\" распродает акции НТВ?</td>\n",
       "      <td>1</td>\n",
       "    </tr>\n",
       "  </tbody>\n",
       "</table>\n",
       "<p>100 rows × 2 columns</p>\n",
       "</div>"
      ],
      "text/plain": [
       "                                                  title  sentiment_label\n",
       "7123  \"Газпром\" потребует от \"Медиа-Моста\" 211 милли...                1\n",
       "6992  Подросток стрелял по людям из пневматического ...                1\n",
       "4283  Минфин выплатит 101 тысячу долларов по иску ЗА...                1\n",
       "4081  Правительство вкладывает 70 миллионов долларов...                1\n",
       "2835  Суд обязал Минфин РФ выплатить 53 миллиона дол...                1\n",
       "...                                                 ...              ...\n",
       "5047  Правительство распорядилось обеспечить Чечню и...                1\n",
       "261               МВД создает службу по борьбе с мафией                1\n",
       "2061  Россия выплачивает долги Парижскому клубу по г...                1\n",
       "7290          Суд по \"делу Локерби\": ливийцы невиновны?                1\n",
       "2870                 \"Медиа-МОСТ\" распродает акции НТВ?                1\n",
       "\n",
       "[100 rows x 2 columns]"
      ]
     },
     "execution_count": 44,
     "metadata": {},
     "output_type": "execute_result"
    }
   ],
   "source": [
    "labeled_title_new"
   ]
  },
  {
   "cell_type": "code",
   "execution_count": 45,
   "id": "03d49b89-0c34-4340-9257-746a43a3f89c",
   "metadata": {},
   "outputs": [],
   "source": [
    "labeled_title = pd.concat([labeled_title, labeled_title_new])"
   ]
  },
  {
   "cell_type": "code",
   "execution_count": 46,
   "id": "3a0f9811-42c3-418d-b42f-f4972c5fbcb9",
   "metadata": {},
   "outputs": [
    {
     "data": {
      "text/plain": [
       "(2100, 2)"
      ]
     },
     "execution_count": 46,
     "metadata": {},
     "output_type": "execute_result"
    }
   ],
   "source": [
    "labeled_title.shape"
   ]
  },
  {
   "cell_type": "code",
   "execution_count": 47,
   "id": "49324d52-d25a-400b-bf32-9cea47297100",
   "metadata": {},
   "outputs": [
    {
     "data": {
      "text/plain": [
       "(7900, 2)"
      ]
     },
     "execution_count": 47,
     "metadata": {},
     "output_type": "execute_result"
    }
   ],
   "source": [
    "unlabeled_title_new.shape"
   ]
  },
  {
   "cell_type": "code",
   "execution_count": 48,
   "id": "949cf984-b5c7-4e53-9344-c4531722d95e",
   "metadata": {},
   "outputs": [],
   "source": [
    "model, vectorizer = train_model(labeled_title)"
   ]
  },
  {
   "cell_type": "code",
   "execution_count": 49,
   "id": "96a3b4ca-e9b8-4098-8987-6f3aa0239e8b",
   "metadata": {},
   "outputs": [],
   "source": [
    "title_test = pd.read_csv('./csv/test.csv', engine='python', on_bad_lines='skip')"
   ]
  },
  {
   "cell_type": "code",
   "execution_count": 50,
   "id": "dd628b0f-bd46-4012-ad2f-6537499b80e5",
   "metadata": {},
   "outputs": [],
   "source": [
    "title_test['sentiment_label'] = le.fit_transform(title_test['sentiment_label'].astype(str))"
   ]
  },
  {
   "cell_type": "code",
   "execution_count": 51,
   "id": "ad23afe1-0b0f-4d0a-95e4-c01faaf3cbb7",
   "metadata": {},
   "outputs": [
    {
     "data": {
      "text/html": [
       "<div>\n",
       "<style scoped>\n",
       "    .dataframe tbody tr th:only-of-type {\n",
       "        vertical-align: middle;\n",
       "    }\n",
       "\n",
       "    .dataframe tbody tr th {\n",
       "        vertical-align: top;\n",
       "    }\n",
       "\n",
       "    .dataframe thead th {\n",
       "        text-align: right;\n",
       "    }\n",
       "</style>\n",
       "<table border=\"1\" class=\"dataframe\">\n",
       "  <thead>\n",
       "    <tr style=\"text-align: right;\">\n",
       "      <th></th>\n",
       "      <th>title</th>\n",
       "      <th>sentiment_label</th>\n",
       "    </tr>\n",
       "  </thead>\n",
       "  <tbody>\n",
       "    <tr>\n",
       "      <th>0</th>\n",
       "      <td>Вагоны московского метро будут складываться га...</td>\n",
       "      <td>1</td>\n",
       "    </tr>\n",
       "    <tr>\n",
       "      <th>1</th>\n",
       "      <td>В Чечню пытались проникнуть наемники из Пакистана</td>\n",
       "      <td>1</td>\n",
       "    </tr>\n",
       "    <tr>\n",
       "      <th>2</th>\n",
       "      <td>Таллинские заключенные предпочитают голод духоте</td>\n",
       "      <td>0</td>\n",
       "    </tr>\n",
       "    <tr>\n",
       "      <th>3</th>\n",
       "      <td>Адвокатам \"Моста\" не удалось дать отвод следов...</td>\n",
       "      <td>1</td>\n",
       "    </tr>\n",
       "    <tr>\n",
       "      <th>4</th>\n",
       "      <td>В поезде Донецк-Москва нашли взрывчатку</td>\n",
       "      <td>1</td>\n",
       "    </tr>\n",
       "  </tbody>\n",
       "</table>\n",
       "</div>"
      ],
      "text/plain": [
       "                                               title  sentiment_label\n",
       "0  Вагоны московского метро будут складываться га...                1\n",
       "1  В Чечню пытались проникнуть наемники из Пакистана                1\n",
       "2   Таллинские заключенные предпочитают голод духоте                0\n",
       "3  Адвокатам \"Моста\" не удалось дать отвод следов...                1\n",
       "4            В поезде Донецк-Москва нашли взрывчатку                1"
      ]
     },
     "execution_count": 51,
     "metadata": {},
     "output_type": "execute_result"
    }
   ],
   "source": [
    "title_test.head()"
   ]
  },
  {
   "cell_type": "code",
   "execution_count": 52,
   "id": "b4924aa7-3fdc-450c-b415-e8bae696278f",
   "metadata": {},
   "outputs": [
    {
     "name": "stdout",
     "output_type": "stream",
     "text": [
      "0.84192\n"
     ]
    }
   ],
   "source": [
    "X_test = vectorizer.transform(title_test['title'])\n",
    "y_test_predicted = model.predict(X_test)\n",
    "f1 = f1_score(title_test['sentiment_label'], y_test_predicted, average='micro')\n",
    "\n",
    "print(f1)"
   ]
  },
  {
   "cell_type": "markdown",
   "id": "e631817d-9398-4138-b706-525b0cdb4f4a",
   "metadata": {},
   "source": [
    "Вывод:\n",
    "\n",
    "Выполнил разметку на основе правил, произвел разметку вручную другого подмножества. Объединил эти две выборки в один дасет и произвел обучение модели. Эффективность обученной модели составила 84%."
   ]
  }
 ],
 "metadata": {
  "kernelspec": {
   "display_name": "Python 3 (ipykernel)",
   "language": "python",
   "name": "python3"
  },
  "language_info": {
   "codemirror_mode": {
    "name": "ipython",
    "version": 3
   },
   "file_extension": ".py",
   "mimetype": "text/x-python",
   "name": "python",
   "nbconvert_exporter": "python",
   "pygments_lexer": "ipython3",
   "version": "3.9.13"
  }
 },
 "nbformat": 4,
 "nbformat_minor": 5
}
